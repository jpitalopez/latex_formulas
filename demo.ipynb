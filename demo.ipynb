{
 "cells": [
  {
   "cell_type": "code",
   "execution_count": null,
   "metadata": {},
   "outputs": [],
   "source": [
    "from unsloth import FastVisionModel\n",
    "import torch\n",
    "from PIL import Image\n",
    "\n",
    "model, tokenizer = FastVisionModel.from_pretrained(\n",
    "    \"JPLabsAI/llava-latex_02\",\n",
    "    load_in_4bit = True,\n",
    "    use_gradient_checkpointing = \"unsloth\",\n",
    ")"
   ]
  },
  {
   "cell_type": "code",
   "execution_count": null,
   "metadata": {},
   "outputs": [],
   "source": [
    "\n",
    "\n",
    "\n",
    "\n",
    "FastVisionModel.for_inference(model)  # Enable for inference!\n",
    "\n",
    "image = Image.open(\"integral_3.png\")\n",
    "instruction = \"\"\"\n",
    "Give me the LateX code for this equation.\n",
    "\"\"\"\n",
    "\n",
    "messages = [\n",
    "    {\n",
    "        \"role\": \"user\",\n",
    "        \"content\": [\n",
    "            {\"type\": \"image\"},\n",
    "            {\"type\": \"text\", \"text\": instruction},\n",
    "        ],\n",
    "    }\n",
    "]\n",
    "input_text = tokenizer.apply_chat_template(\n",
    "    messages, add_generation_prompt=True\n",
    ")\n",
    "inputs = tokenizer(\n",
    "    image,\n",
    "    input_text,\n",
    "    add_special_tokens=False,\n",
    "    return_tensors=\"pt\",\n",
    ").to(\"cuda\")\n",
    "\n",
    "from transformers import TextStreamer\n",
    "\n",
    "output_ids = model.generate(\n",
    "    **inputs,\n",
    "    max_new_tokens=128,\n",
    "    use_cache=True,\n",
    "    temperature=1.5,\n",
    "    min_p=0.1\n",
    ")\n",
    "\n",
    "# Decodificar\n",
    "raw_result = tokenizer.decode(output_ids[0], skip_special_tokens=True)\n",
    "\n",
    "# Quitar la parte de la \"conversación\" (user/assistant)\n",
    "# Tomamos solo lo que está después de \"assistant\"\n",
    "if \"assistant\" in raw_result:\n",
    "    raw_result = raw_result.split(\"assistant\", 1)[-1].strip()\n",
    "\n",
    "# Quitar \\begin{align*} y \\end{align*}\n",
    "clean_result = raw_result.replace(r\"\\begin{align*}\", \"\").replace(r\"\\end{align*}\", \"\").strip()\n",
    "\n",
    "print(\"Resultado limpio:\", clean_result)\n"
   ]
  },
  {
   "cell_type": "code",
   "execution_count": null,
   "metadata": {},
   "outputs": [],
   "source": [
    "\n",
    "\n",
    "from sympy import integrate, Symbol\n",
    "from sympy.parsing.latex import parse_latex\n",
    "\n",
    "# LaTeX de la integral\n",
    "latex_expr = clean_result\n",
    "\n",
    "# Parseamos el LaTeX a Sympy\n",
    "expr = parse_latex(latex_expr)\n",
    "\n",
    "# Mostramos la expresión simbólica\n",
    "print(\"Expresión en Sympy:\", expr)\n",
    "\n",
    "# Como es una Integral simbólica, la resolvemos\n",
    "resultado = expr.doit()\n",
    "\n",
    "print(\"Resultado:\", resultado)\n"
   ]
  },
  {
   "cell_type": "code",
   "execution_count": null,
   "metadata": {},
   "outputs": [],
   "source": []
  }
 ],
 "metadata": {
  "kernelspec": {
   "display_name": "unsloth_env",
   "language": "python",
   "name": "python3"
  },
  "language_info": {
   "codemirror_mode": {
    "name": "ipython",
    "version": 3
   },
   "file_extension": ".py",
   "mimetype": "text/x-python",
   "name": "python",
   "nbconvert_exporter": "python",
   "pygments_lexer": "ipython3",
   "version": "3.10.18"
  }
 },
 "nbformat": 4,
 "nbformat_minor": 2
}
